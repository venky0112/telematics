{
 "cells": [
  {
   "cell_type": "code",
   "execution_count": 1,
   "metadata": {},
   "outputs": [
    {
     "data": {
      "text/plain": [
       "Index(['year', 'month', 'day', 'vin', 'wmi', 'engine_cd', 'device_type',\n",
       "       'msg_ts', 'vin_utc_key', 'packet_id', 'reason_code', 'script_version',\n",
       "       'deviceid', 'latitude', 'longitude', 'driveridcode1', 'obdvin',\n",
       "       'vehiclebattvolts', 'fuel_total', 'engine_rpm', 'coolant_tmp',\n",
       "       'fuel_lvl_pct', 'driving_tme_sec', 'cruise_tme_sec', 'idle_tme_sec',\n",
       "       'idle_fuel_total', 'pto_tme_total', 'pto_fuel_total', 'gear',\n",
       "       'fuel_tmp', 'oil_tmpl', 'throt_pos', 'mpg', 'acel_pos',\n",
       "       'engine_pct_load', 'torque', 'oil_lvl', 'oil_psi', 'coolant_psi',\n",
       "       'intak_air_tmp', 'manifold_tmp', 'vehiclespeed', 'heading',\n",
       "       'odometerinmeters', 'odometer'],\n",
       "      dtype='object')"
      ]
     },
     "execution_count": 1,
     "metadata": {},
     "output_type": "execute_result"
    }
   ],
   "source": [
    "import numpy as np\n",
    "import pandas as pd\n",
    "df=pd.read_csv('telematics_data.csv')\n",
    "df.columns"
   ]
  },
  {
   "cell_type": "code",
   "execution_count": null,
   "metadata": {},
   "outputs": [],
   "source": [
    "https://www.kaggle.com/datasets/adhilpk/automotive-directions-telematics/data"
   ]
  },
  {
   "cell_type": "code",
   "execution_count": 2,
   "metadata": {},
   "outputs": [
    {
     "name": "stdout",
     "output_type": "stream",
     "text": [
      "<class 'pandas.core.frame.DataFrame'>\n",
      "RangeIndex: 514994 entries, 0 to 514993\n",
      "Data columns (total 45 columns):\n",
      " #   Column            Non-Null Count   Dtype  \n",
      "---  ------            --------------   -----  \n",
      " 0   year              514994 non-null  int64  \n",
      " 1   month             514994 non-null  int64  \n",
      " 2   day               514994 non-null  int64  \n",
      " 3   vin               514994 non-null  object \n",
      " 4   wmi               514994 non-null  object \n",
      " 5   engine_cd         514994 non-null  object \n",
      " 6   device_type       514994 non-null  object \n",
      " 7   msg_ts            514994 non-null  object \n",
      " 8   vin_utc_key       514994 non-null  object \n",
      " 9   packet_id         514994 non-null  int64  \n",
      " 10  reason_code       514994 non-null  int64  \n",
      " 11  script_version    389569 non-null  float64\n",
      " 12  deviceid          487753 non-null  object \n",
      " 13  latitude          487710 non-null  float64\n",
      " 14  longitude         487748 non-null  float64\n",
      " 15  driveridcode1     487608 non-null  float64\n",
      " 16  obdvin            487689 non-null  object \n",
      " 17  vehiclebattvolts  457856 non-null  float64\n",
      " 18  fuel_total        454170 non-null  float64\n",
      " 19  engine_rpm        514994 non-null  float64\n",
      " 20  coolant_tmp       457846 non-null  float64\n",
      " 21  fuel_lvl_pct      273821 non-null  float64\n",
      " 22  driving_tme_sec   93406 non-null   float64\n",
      " 23  cruise_tme_sec    0 non-null       float64\n",
      " 24  idle_tme_sec      453791 non-null  float64\n",
      " 25  idle_fuel_total   453592 non-null  float64\n",
      " 26  pto_tme_total     453709 non-null  float64\n",
      " 27  pto_fuel_total    453606 non-null  float64\n",
      " 28  gear              437694 non-null  float64\n",
      " 29  fuel_tmp          364422 non-null  float64\n",
      " 30  oil_tmpl          457956 non-null  float64\n",
      " 31  throt_pos         457973 non-null  float64\n",
      " 32  mpg               0 non-null       float64\n",
      " 33  acel_pos          364432 non-null  float64\n",
      " 34  engine_pct_load   475924 non-null  float64\n",
      " 35  torque            475351 non-null  float64\n",
      " 36  oil_lvl           364709 non-null  float64\n",
      " 37  oil_psi           457907 non-null  float64\n",
      " 38  coolant_psi       364519 non-null  float64\n",
      " 39  intak_air_tmp     458267 non-null  float64\n",
      " 40  manifold_tmp      458811 non-null  float64\n",
      " 41  vehiclespeed      487650 non-null  float64\n",
      " 42  heading           473111 non-null  float64\n",
      " 43  odometerinmeters  487801 non-null  float64\n",
      " 44  odometer          10393 non-null   float64\n",
      "dtypes: float64(32), int64(5), object(8)\n",
      "memory usage: 176.8+ MB\n"
     ]
    }
   ],
   "source": [
    "df.info()"
   ]
  },
  {
   "cell_type": "code",
   "execution_count": 3,
   "metadata": {},
   "outputs": [],
   "source": [
    "df.drop(columns=[\"year\", \"month\", \"day\"], inplace=True)"
   ]
  },
  {
   "cell_type": "code",
   "execution_count": 5,
   "metadata": {},
   "outputs": [
    {
     "name": "stdout",
     "output_type": "stream",
     "text": [
      "['wmi', 'engine_cd', 'device_type', 'vin_utc_key', 'deviceid', 'obdvin']\n"
     ]
    }
   ],
   "source": [
    "# Identify categorical features excluding 'vin'\n",
    "categorical_features = df.select_dtypes(include=['object', 'category']).drop(columns=['vin','msg_ts'], errors='ignore')\n",
    "\n",
    "# Print categorical feature names\n",
    "print(categorical_features.columns.tolist())\n"
   ]
  },
  {
   "cell_type": "code",
   "execution_count": 6,
   "metadata": {},
   "outputs": [],
   "source": [
    "df.drop(columns=categorical_features.columns, inplace=True)"
   ]
  },
  {
   "cell_type": "code",
   "execution_count": 10,
   "metadata": {},
   "outputs": [
    {
     "name": "stdout",
     "output_type": "stream",
     "text": [
      "Remaining columns: Index(['vin', 'msg_ts', 'reason_code', 'latitude', 'longitude',\n",
      "       'vehiclebattvolts', 'fuel_total', 'engine_rpm', 'coolant_tmp',\n",
      "       'fuel_lvl_pct', 'driving_tme_sec', 'idle_tme_sec', 'idle_fuel_total',\n",
      "       'pto_tme_total', 'pto_fuel_total', 'gear', 'fuel_tmp', 'oil_tmpl',\n",
      "       'throt_pos', 'acel_pos', 'engine_pct_load', 'torque', 'oil_lvl',\n",
      "       'oil_psi', 'coolant_psi', 'intak_air_tmp', 'manifold_tmp',\n",
      "       'vehiclespeed', 'heading', 'odometerinmeters'],\n",
      "      dtype='object')\n"
     ]
    }
   ],
   "source": [
    "# Step 4: Drop specific columns if they exist\n",
    "df.drop(columns=['packet_id', 'script_version', 'driveridcode1', 'odometer'], inplace=True, axis=1)\n",
    "\n",
    "# Step 5: Drop columns that have ALL null values\n",
    "df.dropna(axis=1, how='all', inplace=True)\n",
    "\n",
    "# Step 6: Print remaining columns\n",
    "print(\"Remaining columns:\", df.columns)"
   ]
  },
  {
   "cell_type": "code",
   "execution_count": 12,
   "metadata": {},
   "outputs": [
    {
     "data": {
      "text/plain": [
       "vin                  0.000000\n",
       "msg_ts               0.000000\n",
       "reason_code          0.000000\n",
       "latitude             5.297926\n",
       "longitude            5.290547\n",
       "vehiclebattvolts    11.094887\n",
       "fuel_total          11.810623\n",
       "engine_rpm           0.000000\n",
       "coolant_tmp         11.096828\n",
       "fuel_lvl_pct        46.830254\n",
       "driving_tme_sec     81.862701\n",
       "idle_tme_sec        11.884216\n",
       "idle_fuel_total     11.922857\n",
       "pto_tme_total       11.900139\n",
       "pto_fuel_total      11.920139\n",
       "gear                15.009884\n",
       "fuel_tmp            29.237622\n",
       "oil_tmpl            11.075469\n",
       "throt_pos           11.072168\n",
       "acel_pos            29.235680\n",
       "engine_pct_load      7.586496\n",
       "torque               7.697760\n",
       "oil_lvl             29.181893\n",
       "oil_psi             11.084984\n",
       "coolant_psi         29.218787\n",
       "intak_air_tmp       11.015080\n",
       "manifold_tmp        10.909447\n",
       "vehiclespeed         5.309576\n",
       "heading              8.132716\n",
       "odometerinmeters     5.280256\n",
       "dtype: float64"
      ]
     },
     "execution_count": 12,
     "metadata": {},
     "output_type": "execute_result"
    }
   ],
   "source": [
    "\n",
    "df.isnull().sum()/len(df)*100"
   ]
  },
  {
   "cell_type": "code",
   "execution_count": 13,
   "metadata": {},
   "outputs": [
    {
     "data": {
      "text/plain": [
       "vin\n",
       "3HSDZTZR5LN134290    34636\n",
       "1HSERTZRXLH809470     9962\n",
       "3HSDZTZRXLN395656     7263\n",
       "3HSDZTZRXLN085409     6657\n",
       "3HSDZTZR3LN154022     6639\n",
       "                     ...  \n",
       "3HSDWTZR9KN310622     4204\n",
       "3HSDWTZR5LN845108     4185\n",
       "3HSDWTZR1LN845199     4181\n",
       "3HSDZTZR6KN540223     4177\n",
       "3HSDWTZR0LN844822     4169\n",
       "Name: count, Length: 100, dtype: int64"
      ]
     },
     "execution_count": 13,
     "metadata": {},
     "output_type": "execute_result"
    }
   ],
   "source": [
    "df.drop(columns=['fuel_lvl_pct', 'driving_tme_sec'], inplace=True, axis=1)\n",
    "df['vin'].value_counts()"
   ]
  },
  {
   "cell_type": "code",
   "execution_count": 18,
   "metadata": {},
   "outputs": [
    {
     "data": {
      "text/plain": [
       "vin                      0\n",
       "msg_ts                   0\n",
       "reason_code              0\n",
       "latitude                 0\n",
       "longitude                0\n",
       "vehiclebattvolts     41074\n",
       "fuel_total           44671\n",
       "engine_rpm               0\n",
       "coolant_tmp          41273\n",
       "idle_tme_sec         45232\n",
       "idle_fuel_total      45248\n",
       "pto_tme_total        45287\n",
       "pto_fuel_total       45368\n",
       "gear                 61456\n",
       "fuel_tmp            130883\n",
       "oil_tmpl             41000\n",
       "throt_pos            41124\n",
       "acel_pos            131027\n",
       "engine_pct_load      26467\n",
       "torque               26823\n",
       "oil_lvl             130686\n",
       "oil_psi              41304\n",
       "coolant_psi         131028\n",
       "intak_air_tmp        40809\n",
       "manifold_tmp         40389\n",
       "vehiclespeed         15996\n",
       "heading              30314\n",
       "odometerinmeters     15874\n",
       "dtype: int64"
      ]
     },
     "execution_count": 18,
     "metadata": {},
     "output_type": "execute_result"
    }
   ],
   "source": [
    "df.isnull().sum()"
   ]
  },
  {
   "cell_type": "code",
   "execution_count": 14,
   "metadata": {},
   "outputs": [],
   "source": [
    "df = df.dropna(subset=['latitude', 'longitude'])"
   ]
  },
  {
   "cell_type": "code",
   "execution_count": null,
   "metadata": {},
   "outputs": [],
   "source": [
    "list=['vehiclebattvolts', 'fuel_total', '']\n",
    "df['vehiclebattvolts'] = df['vehiclebattvolts'].interpolate(method='linear', limit_direction='both').bfill().ffill()"
   ]
  },
  {
   "cell_type": "code",
   "execution_count": null,
   "metadata": {},
   "outputs": [],
   "source": [
    "df['msg_ts']"
   ]
  },
  {
   "cell_type": "code",
   "execution_count": null,
   "metadata": {},
   "outputs": [],
   "source": [
    "df['msg_ts'] = pd.to_datetime(df['msg_ts'], format=\"%d-%m-%Y %H:%M\")\n",
    "df.sort_values(by='msg_ts',inplace=True)\n",
    "df['msg_ts'].head()\n",
    "df.reset_index(drop=True, inplace=True)\n",
    "df['msg_ts'].head()"
   ]
  },
  {
   "cell_type": "code",
   "execution_count": null,
   "metadata": {},
   "outputs": [],
   "source": [
    "print(df['reason_code'].value_counts())"
   ]
  },
  {
   "cell_type": "code",
   "execution_count": null,
   "metadata": {},
   "outputs": [],
   "source": [
    "numeric_df = df.select_dtypes(include=['number'])\n",
    "numeric_df.head()"
   ]
  },
  {
   "cell_type": "code",
   "execution_count": null,
   "metadata": {},
   "outputs": [],
   "source": [
    "df.sort_values(by='msg_ts',inplace=True,ascending=False)"
   ]
  },
  {
   "cell_type": "code",
   "execution_count": null,
   "metadata": {},
   "outputs": [],
   "source": [
    "categorical_features = df.select_dtypes(include=['object', 'category'])\n",
    "df.drop(columns=categorical_features.columns, inplace=True)"
   ]
  },
  {
   "cell_type": "code",
   "execution_count": null,
   "metadata": {},
   "outputs": [],
   "source": [
    "df.info()"
   ]
  }
 ],
 "metadata": {
  "kernelspec": {
   "display_name": "Python 3",
   "language": "python",
   "name": "python3"
  },
  "language_info": {
   "codemirror_mode": {
    "name": "ipython",
    "version": 3
   },
   "file_extension": ".py",
   "mimetype": "text/x-python",
   "name": "python",
   "nbconvert_exporter": "python",
   "pygments_lexer": "ipython3",
   "version": "3.10.5"
  }
 },
 "nbformat": 4,
 "nbformat_minor": 2
}
