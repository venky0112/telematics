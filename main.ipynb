{
 "cells": [
  {
   "cell_type": "code",
   "execution_count": 190,
   "metadata": {},
   "outputs": [
    {
     "data": {
      "text/plain": [
       "Index(['year', 'month', 'day', 'vin', 'wmi', 'engine_cd', 'device_type',\n",
       "       'msg_ts', 'vin_utc_key', 'packet_id', 'reason_code', 'script_version',\n",
       "       'deviceid', 'latitude', 'longitude', 'driveridcode1', 'obdvin',\n",
       "       'vehiclebattvolts', 'fuel_total', 'engine_rpm', 'coolant_tmp',\n",
       "       'fuel_lvl_pct', 'driving_tme_sec', 'cruise_tme_sec', 'idle_tme_sec',\n",
       "       'idle_fuel_total', 'pto_tme_total', 'pto_fuel_total', 'gear',\n",
       "       'fuel_tmp', 'oil_tmpl', 'throt_pos', 'mpg', 'acel_pos',\n",
       "       'engine_pct_load', 'torque', 'oil_lvl', 'oil_psi', 'coolant_psi',\n",
       "       'intak_air_tmp', 'manifold_tmp', 'vehiclespeed', 'heading',\n",
       "       'odometerinmeters', 'odometer'],\n",
       "      dtype='object')"
      ]
     },
     "execution_count": 190,
     "metadata": {},
     "output_type": "execute_result"
    }
   ],
   "source": [
    "import numpy as np\n",
    "import pandas as pd\n",
    "df=pd.read_csv('telematics_data.csv')\n",
    "df.columns"
   ]
  },
  {
   "cell_type": "code",
   "execution_count": null,
   "metadata": {},
   "outputs": [],
   "source": [
    "https://www.kaggle.com/datasets/adhilpk/automotive-directions-telematics/data"
   ]
  },
  {
   "cell_type": "code",
   "execution_count": 191,
   "metadata": {},
   "outputs": [
    {
     "name": "stdout",
     "output_type": "stream",
     "text": [
      "<class 'pandas.core.frame.DataFrame'>\n",
      "RangeIndex: 514994 entries, 0 to 514993\n",
      "Data columns (total 45 columns):\n",
      " #   Column            Non-Null Count   Dtype  \n",
      "---  ------            --------------   -----  \n",
      " 0   year              514994 non-null  int64  \n",
      " 1   month             514994 non-null  int64  \n",
      " 2   day               514994 non-null  int64  \n",
      " 3   vin               514994 non-null  object \n",
      " 4   wmi               514994 non-null  object \n",
      " 5   engine_cd         514994 non-null  object \n",
      " 6   device_type       514994 non-null  object \n",
      " 7   msg_ts            514994 non-null  object \n",
      " 8   vin_utc_key       514994 non-null  object \n",
      " 9   packet_id         514994 non-null  int64  \n",
      " 10  reason_code       514994 non-null  int64  \n",
      " 11  script_version    389569 non-null  float64\n",
      " 12  deviceid          487753 non-null  object \n",
      " 13  latitude          487710 non-null  float64\n",
      " 14  longitude         487748 non-null  float64\n",
      " 15  driveridcode1     487608 non-null  float64\n",
      " 16  obdvin            487689 non-null  object \n",
      " 17  vehiclebattvolts  457856 non-null  float64\n",
      " 18  fuel_total        454170 non-null  float64\n",
      " 19  engine_rpm        514994 non-null  int64  \n",
      " 20  coolant_tmp       457846 non-null  float64\n",
      " 21  fuel_lvl_pct      273821 non-null  float64\n",
      " 22  driving_tme_sec   93406 non-null   float64\n",
      " 23  cruise_tme_sec    0 non-null       float64\n",
      " 24  idle_tme_sec      453791 non-null  float64\n",
      " 25  idle_fuel_total   453592 non-null  float64\n",
      " 26  pto_tme_total     453709 non-null  float64\n",
      " 27  pto_fuel_total    453606 non-null  float64\n",
      " 28  gear              437694 non-null  float64\n",
      " 29  fuel_tmp          364422 non-null  float64\n",
      " 30  oil_tmpl          457956 non-null  float64\n",
      " 31  throt_pos         457973 non-null  float64\n",
      " 32  mpg               0 non-null       float64\n",
      " 33  acel_pos          364432 non-null  float64\n",
      " 34  engine_pct_load   475924 non-null  float64\n",
      " 35  torque            475351 non-null  float64\n",
      " 36  oil_lvl           364709 non-null  float64\n",
      " 37  oil_psi           457907 non-null  float64\n",
      " 38  coolant_psi       364519 non-null  float64\n",
      " 39  intak_air_tmp     458267 non-null  float64\n",
      " 40  manifold_tmp      458811 non-null  float64\n",
      " 41  vehiclespeed      487650 non-null  float64\n",
      " 42  heading           473111 non-null  float64\n",
      " 43  odometerinmeters  487801 non-null  float64\n",
      " 44  odometer          10393 non-null   float64\n",
      "dtypes: float64(31), int64(6), object(8)\n",
      "memory usage: 176.8+ MB\n"
     ]
    }
   ],
   "source": [
    "df.info()"
   ]
  },
  {
   "cell_type": "code",
   "execution_count": 192,
   "metadata": {},
   "outputs": [],
   "source": [
    "\n",
    "df.drop(columns=[\"year\", \"month\", \"day\"], inplace=True)\n",
    "\n",
    "\n"
   ]
  },
  {
   "cell_type": "code",
   "execution_count": 194,
   "metadata": {},
   "outputs": [
    {
     "name": "stdout",
     "output_type": "stream",
     "text": [
      "['wmi', 'engine_cd', 'device_type', 'msg_ts', 'vin_utc_key', 'deviceid', 'obdvin']\n"
     ]
    }
   ],
   "source": [
    "# Identify categorical features excluding 'vin'\n",
    "categorical_features = df.select_dtypes(include=['object', 'category']).drop(columns=['vin'], errors='ignore')\n",
    "\n",
    "# Print categorical feature names\n",
    "print(categorical_features.columns.tolist())\n"
   ]
  },
  {
   "cell_type": "code",
   "execution_count": 180,
   "metadata": {},
   "outputs": [],
   "source": [
    "df.drop(columns=categorical_features.columns, inplace=True)"
   ]
  },
  {
   "cell_type": "code",
   "execution_count": 181,
   "metadata": {},
   "outputs": [
    {
     "name": "stdout",
     "output_type": "stream",
     "text": [
      "Remaining columns: Index(['reason_code', 'latitude', 'longitude', 'vehiclebattvolts',\n",
      "       'fuel_total', 'engine_rpm', 'coolant_tmp', 'fuel_lvl_pct',\n",
      "       'driving_tme_sec', 'idle_tme_sec', 'idle_fuel_total', 'pto_tme_total',\n",
      "       'pto_fuel_total', 'gear', 'fuel_tmp', 'oil_tmpl', 'throt_pos',\n",
      "       'acel_pos', 'engine_pct_load', 'torque', 'oil_lvl', 'oil_psi',\n",
      "       'coolant_psi', 'intak_air_tmp', 'manifold_tmp', 'vehiclespeed',\n",
      "       'heading', 'odometerinmeters'],\n",
      "      dtype='object')\n"
     ]
    }
   ],
   "source": [
    "# Step 4: Drop specific columns if they exist\n",
    "cols_to_drop = ['packet_id', 'script_version', 'driveridcode1', 'odometer']\n",
    "df.drop(columns=[col for col in cols_to_drop if col in df.columns], inplace=True)\n",
    "\n",
    "# Step 5: Drop columns that have ALL null values\n",
    "df.dropna(axis=1, how='all', inplace=True)\n",
    "\n",
    "# Step 6: Print remaining columns\n",
    "print(\"Remaining columns:\", df.columns)"
   ]
  },
  {
   "cell_type": "code",
   "execution_count": 184,
   "metadata": {},
   "outputs": [
    {
     "data": {
      "text/plain": [
       "reason_code          0.000000\n",
       "latitude             5.297926\n",
       "longitude            5.290547\n",
       "vehiclebattvolts    11.094887\n",
       "fuel_total          11.810623\n",
       "engine_rpm           0.000000\n",
       "coolant_tmp         11.096828\n",
       "fuel_lvl_pct        46.830254\n",
       "driving_tme_sec     81.862701\n",
       "idle_tme_sec        11.884216\n",
       "idle_fuel_total     11.922857\n",
       "pto_tme_total       11.900139\n",
       "pto_fuel_total      11.920139\n",
       "gear                15.009884\n",
       "fuel_tmp            29.237622\n",
       "oil_tmpl            11.075469\n",
       "throt_pos           11.072168\n",
       "acel_pos            29.235680\n",
       "engine_pct_load      7.586496\n",
       "torque               7.697760\n",
       "oil_lvl             29.181893\n",
       "oil_psi             11.084984\n",
       "coolant_psi         29.218787\n",
       "intak_air_tmp       11.015080\n",
       "manifold_tmp        10.909447\n",
       "vehiclespeed         5.309576\n",
       "heading              8.132716\n",
       "odometerinmeters     5.280256\n",
       "dtype: float64"
      ]
     },
     "execution_count": 184,
     "metadata": {},
     "output_type": "execute_result"
    }
   ],
   "source": [
    "\n",
    "df.isnull().sum()/len(df)*100"
   ]
  },
  {
   "cell_type": "code",
   "execution_count": 189,
   "metadata": {},
   "outputs": [
    {
     "ename": "KeyError",
     "evalue": "'vin'",
     "output_type": "error",
     "traceback": [
      "\u001b[1;31m---------------------------------------------------------------------------\u001b[0m",
      "\u001b[1;31mKeyError\u001b[0m                                  Traceback (most recent call last)",
      "File \u001b[1;32m~\\AppData\\Roaming\\Python\\Python313\\site-packages\\pandas\\core\\indexes\\base.py:3805\u001b[0m, in \u001b[0;36mIndex.get_loc\u001b[1;34m(self, key)\u001b[0m\n\u001b[0;32m   3804\u001b[0m \u001b[38;5;28;01mtry\u001b[39;00m:\n\u001b[1;32m-> 3805\u001b[0m     \u001b[38;5;28;01mreturn\u001b[39;00m \u001b[38;5;28;43mself\u001b[39;49m\u001b[38;5;241;43m.\u001b[39;49m\u001b[43m_engine\u001b[49m\u001b[38;5;241;43m.\u001b[39;49m\u001b[43mget_loc\u001b[49m\u001b[43m(\u001b[49m\u001b[43mcasted_key\u001b[49m\u001b[43m)\u001b[49m\n\u001b[0;32m   3806\u001b[0m \u001b[38;5;28;01mexcept\u001b[39;00m \u001b[38;5;167;01mKeyError\u001b[39;00m \u001b[38;5;28;01mas\u001b[39;00m err:\n",
      "File \u001b[1;32mindex.pyx:167\u001b[0m, in \u001b[0;36mpandas._libs.index.IndexEngine.get_loc\u001b[1;34m()\u001b[0m\n",
      "File \u001b[1;32mindex.pyx:196\u001b[0m, in \u001b[0;36mpandas._libs.index.IndexEngine.get_loc\u001b[1;34m()\u001b[0m\n",
      "File \u001b[1;32mpandas\\\\_libs\\\\hashtable_class_helper.pxi:7081\u001b[0m, in \u001b[0;36mpandas._libs.hashtable.PyObjectHashTable.get_item\u001b[1;34m()\u001b[0m\n",
      "File \u001b[1;32mpandas\\\\_libs\\\\hashtable_class_helper.pxi:7089\u001b[0m, in \u001b[0;36mpandas._libs.hashtable.PyObjectHashTable.get_item\u001b[1;34m()\u001b[0m\n",
      "\u001b[1;31mKeyError\u001b[0m: 'vin'",
      "\nThe above exception was the direct cause of the following exception:\n",
      "\u001b[1;31mKeyError\u001b[0m                                  Traceback (most recent call last)",
      "Cell \u001b[1;32mIn[189], line 1\u001b[0m\n\u001b[1;32m----> 1\u001b[0m \u001b[43mdf\u001b[49m\u001b[43m[\u001b[49m\u001b[38;5;124;43m'\u001b[39;49m\u001b[38;5;124;43mvin\u001b[39;49m\u001b[38;5;124;43m'\u001b[39;49m\u001b[43m]\u001b[49m\u001b[38;5;241m.\u001b[39mvalue_counts()\n",
      "File \u001b[1;32m~\\AppData\\Roaming\\Python\\Python313\\site-packages\\pandas\\core\\frame.py:4102\u001b[0m, in \u001b[0;36mDataFrame.__getitem__\u001b[1;34m(self, key)\u001b[0m\n\u001b[0;32m   4100\u001b[0m \u001b[38;5;28;01mif\u001b[39;00m \u001b[38;5;28mself\u001b[39m\u001b[38;5;241m.\u001b[39mcolumns\u001b[38;5;241m.\u001b[39mnlevels \u001b[38;5;241m>\u001b[39m \u001b[38;5;241m1\u001b[39m:\n\u001b[0;32m   4101\u001b[0m     \u001b[38;5;28;01mreturn\u001b[39;00m \u001b[38;5;28mself\u001b[39m\u001b[38;5;241m.\u001b[39m_getitem_multilevel(key)\n\u001b[1;32m-> 4102\u001b[0m indexer \u001b[38;5;241m=\u001b[39m \u001b[38;5;28;43mself\u001b[39;49m\u001b[38;5;241;43m.\u001b[39;49m\u001b[43mcolumns\u001b[49m\u001b[38;5;241;43m.\u001b[39;49m\u001b[43mget_loc\u001b[49m\u001b[43m(\u001b[49m\u001b[43mkey\u001b[49m\u001b[43m)\u001b[49m\n\u001b[0;32m   4103\u001b[0m \u001b[38;5;28;01mif\u001b[39;00m is_integer(indexer):\n\u001b[0;32m   4104\u001b[0m     indexer \u001b[38;5;241m=\u001b[39m [indexer]\n",
      "File \u001b[1;32m~\\AppData\\Roaming\\Python\\Python313\\site-packages\\pandas\\core\\indexes\\base.py:3812\u001b[0m, in \u001b[0;36mIndex.get_loc\u001b[1;34m(self, key)\u001b[0m\n\u001b[0;32m   3807\u001b[0m     \u001b[38;5;28;01mif\u001b[39;00m \u001b[38;5;28misinstance\u001b[39m(casted_key, \u001b[38;5;28mslice\u001b[39m) \u001b[38;5;129;01mor\u001b[39;00m (\n\u001b[0;32m   3808\u001b[0m         \u001b[38;5;28misinstance\u001b[39m(casted_key, abc\u001b[38;5;241m.\u001b[39mIterable)\n\u001b[0;32m   3809\u001b[0m         \u001b[38;5;129;01mand\u001b[39;00m \u001b[38;5;28many\u001b[39m(\u001b[38;5;28misinstance\u001b[39m(x, \u001b[38;5;28mslice\u001b[39m) \u001b[38;5;28;01mfor\u001b[39;00m x \u001b[38;5;129;01min\u001b[39;00m casted_key)\n\u001b[0;32m   3810\u001b[0m     ):\n\u001b[0;32m   3811\u001b[0m         \u001b[38;5;28;01mraise\u001b[39;00m InvalidIndexError(key)\n\u001b[1;32m-> 3812\u001b[0m     \u001b[38;5;28;01mraise\u001b[39;00m \u001b[38;5;167;01mKeyError\u001b[39;00m(key) \u001b[38;5;28;01mfrom\u001b[39;00m\u001b[38;5;250m \u001b[39m\u001b[38;5;21;01merr\u001b[39;00m\n\u001b[0;32m   3813\u001b[0m \u001b[38;5;28;01mexcept\u001b[39;00m \u001b[38;5;167;01mTypeError\u001b[39;00m:\n\u001b[0;32m   3814\u001b[0m     \u001b[38;5;66;03m# If we have a listlike key, _check_indexing_error will raise\u001b[39;00m\n\u001b[0;32m   3815\u001b[0m     \u001b[38;5;66;03m#  InvalidIndexError. Otherwise we fall through and re-raise\u001b[39;00m\n\u001b[0;32m   3816\u001b[0m     \u001b[38;5;66;03m#  the TypeError.\u001b[39;00m\n\u001b[0;32m   3817\u001b[0m     \u001b[38;5;28mself\u001b[39m\u001b[38;5;241m.\u001b[39m_check_indexing_error(key)\n",
      "\u001b[1;31mKeyError\u001b[0m: 'vin'"
     ]
    }
   ],
   "source": [
    "df['vin'].value_counts()"
   ]
  },
  {
   "cell_type": "code",
   "execution_count": null,
   "metadata": {},
   "outputs": [],
   "source": [
    "df = df.dropna(subset=['latitude', 'longitude', 'coolant_tmp', 'fuel_lvl_pct', 'driving_tme_sec','idle_tme_sec', 'idle_fuel_total', 'pto_tme_total','pto_fuel_total',''])"
   ]
  },
  {
   "cell_type": "code",
   "execution_count": null,
   "metadata": {},
   "outputs": [],
   "source": [
    "list=['vehiclebattvolts', 'fuel_total', '']\n",
    "df['vehiclebattvolts'] = df['vehiclebattvolts'].interpolate(method='linear', limit_direction='both').bfill().ffill()"
   ]
  },
  {
   "cell_type": "code",
   "execution_count": null,
   "metadata": {},
   "outputs": [],
   "source": [
    "df['msg_ts']"
   ]
  },
  {
   "cell_type": "code",
   "execution_count": null,
   "metadata": {},
   "outputs": [],
   "source": [
    "df['msg_ts'] = pd.to_datetime(df['msg_ts'], format=\"%d-%m-%Y %H:%M\")\n",
    "df.sort_values(by='msg_ts',inplace=True)\n",
    "df['msg_ts'].head()\n",
    "df.reset_index(drop=True, inplace=True)\n",
    "df['msg_ts'].head()"
   ]
  },
  {
   "cell_type": "code",
   "execution_count": null,
   "metadata": {},
   "outputs": [],
   "source": [
    "print(df['reason_code'].value_counts())"
   ]
  },
  {
   "cell_type": "code",
   "execution_count": null,
   "metadata": {},
   "outputs": [],
   "source": [
    "numeric_df = df.select_dtypes(include=['number'])\n",
    "numeric_df.head()"
   ]
  },
  {
   "cell_type": "code",
   "execution_count": null,
   "metadata": {},
   "outputs": [],
   "source": [
    "df.sort_values(by='msg_ts',inplace=True,ascending=False)"
   ]
  },
  {
   "cell_type": "code",
   "execution_count": null,
   "metadata": {},
   "outputs": [],
   "source": [
    "categorical_features = df.select_dtypes(include=['object', 'category'])\n",
    "df.drop(columns=categorical_features.columns, inplace=True)"
   ]
  },
  {
   "cell_type": "code",
   "execution_count": null,
   "metadata": {},
   "outputs": [],
   "source": [
    "df.info()"
   ]
  }
 ],
 "metadata": {
  "kernelspec": {
   "display_name": "Python 3",
   "language": "python",
   "name": "python3"
  },
  "language_info": {
   "codemirror_mode": {
    "name": "ipython",
    "version": 3
   },
   "file_extension": ".py",
   "mimetype": "text/x-python",
   "name": "python",
   "nbconvert_exporter": "python",
   "pygments_lexer": "ipython3",
   "version": "3.13.1"
  }
 },
 "nbformat": 4,
 "nbformat_minor": 2
}
